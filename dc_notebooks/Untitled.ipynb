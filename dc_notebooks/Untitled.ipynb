{
 "cells": [
  {
   "cell_type": "code",
   "execution_count": 4,
   "id": "e36e814d",
   "metadata": {},
   "outputs": [],
   "source": [
    "import numpy as np\n",
    "import pandas as pd\n",
    "import math\n",
    "\n",
    "import mud\n",
    "\n",
    "import os,sys\n",
    "import matplotlib.pyplot as plt\n",
    "import seaborn as sns\n",
    "import warnings\n",
    "\n",
    "warnings.filterwarnings('ignore')\n",
    "sns.set_style('darkgrid')\n",
    "sys.path.insert(0,os.path.dirname(os.getcwd()))\n",
    "\n",
    "from dc_models.models import *\n",
    "from dc_utils.plots import _plot_states, _print_dims, _create_paramdf\n",
    "\n",
    "\n",
    "# Statistics libraries\n",
    "from scipy.stats import uniform, norm\n",
    "from scipy.stats import gaussian_kde as GKDE"
   ]
  },
  {
   "cell_type": "code",
   "execution_count": null,
   "id": "372287bf",
   "metadata": {},
   "outputs": [],
   "source": []
  },
  {
   "cell_type": "code",
   "execution_count": null,
   "id": "8632ce7c",
   "metadata": {},
   "outputs": [],
   "source": [
    "# initial parameters\n",
    "time_range =[0,pp_args.get('tend')]\n",
    "support = [[0,1]]                     # support of pdf of lambda parameter\n",
    "num_samples = 10                      # number of samples per parameter\n",
    "lambda_true = [0.5,0.5,0.5]           # true value of lambda parameters\n",
    "sd = np.sqrt(1.5073-3)                # std deviation for adding noise to measurements\n",
    "\n",
    "# mud parameters\n",
    "state_samples =30                     # number of samples to take from true state trajectory\n",
    "num_parameters=3                      # number of parameters to estimate\n",
    "num_samples = 10                      # number of samples to draw per parameter"
   ]
  },
  {
   "cell_type": "code",
   "execution_count": null,
   "id": "c1af420a",
   "metadata": {},
   "outputs": [],
   "source": [
    "true_args ={\n",
    "    'state_init': np.array([4,2]),\n",
    "    'true_model': True,\n",
    "    'num_tsteps': 1000,\n",
    "    'tend':200,\n",
    "    'drift_windows':1,\n",
    "    'assim_windows':1\n",
    "    }\n",
    "\n",
    "predict_args ={\n",
    "    'state_init': np.array([4,2]),\n",
    "    'true_model': False,\n",
    "    'num_tsteps': 1000,\n",
    "    'tend':200,\n",
    "    'drift_windows':1,\n",
    "    'assim_windows':1\n",
    "    }\n",
    "\n",
    "true_model = lotka_volterra(**true_args)\n",
    "true_model._run_model()\n",
    "true_states, true_params, true_times = pp_model._get_outputs()\n",
    "\n",
    "predicted_model = lotka_volterra(**predict_args)\n",
    "predicted_model._run_model()\n",
    "predicted__states, predicted__params, predict_times = predicted__model._get_outputs()"
   ]
  },
  {
   "cell_type": "code",
   "execution_count": null,
   "id": "57d01fd9",
   "metadata": {},
   "outputs": [],
   "source": [
    "# changed assim_windows variable"
   ]
  },
  {
   "cell_type": "code",
   "execution_count": null,
   "id": "41d60c1a",
   "metadata": {},
   "outputs": [],
   "source": []
  },
  {
   "cell_type": "code",
   "execution_count": 6,
   "id": "0104f655",
   "metadata": {},
   "outputs": [],
   "source": [
    "u_0=0.75\n",
    "time_range=[0, 3.0]\n",
    "domain=[[0, 1]]\n",
    "num_samples=10000\n",
    "lambda_true=0.5\n",
    "N=20\n",
    "t_start=1.0\n",
    "sampling_freq=100.0\n",
    "    \n",
    "time = np.linspace(time_range[0], time_range[1], 1000)\n",
    "times = np.arange(t_start, time_range[1], 1 / sampling_freq)[0:N]\n",
    "\n",
    "u_t_lambda = lambda t, l: u_0 * np.exp(-np.outer(l, t))\n",
    "\n",
    "mn = np.min(domain, axis=1)\n",
    "mx = np.max(domain, axis=1)\n",
    "initial = uniform(loc=mn, scale=mx - mn)\n",
    "lambda_samples = initial.rvs(size=num_samples)\n",
    "\n",
    "true = u_t_lambda(times, lambda_true)[0]\n",
    "predicted = u_t_lambda(times, lambda_samples)"
   ]
  },
  {
   "cell_type": "code",
   "execution_count": 8,
   "id": "85dea949",
   "metadata": {},
   "outputs": [
    {
     "data": {
      "text/plain": [
       "(20,)"
      ]
     },
     "execution_count": 8,
     "metadata": {},
     "output_type": "execute_result"
    }
   ],
   "source": [
    "true.shape"
   ]
  },
  {
   "cell_type": "code",
   "execution_count": null,
   "id": "d33d9063",
   "metadata": {},
   "outputs": [],
   "source": []
  }
 ],
 "metadata": {
  "kernelspec": {
   "display_name": "Python 3 (ipykernel)",
   "language": "python",
   "name": "python3"
  },
  "language_info": {
   "codemirror_mode": {
    "name": "ipython",
    "version": 3
   },
   "file_extension": ".py",
   "mimetype": "text/x-python",
   "name": "python",
   "nbconvert_exporter": "python",
   "pygments_lexer": "ipython3",
   "version": "3.10.6"
  }
 },
 "nbformat": 4,
 "nbformat_minor": 5
}
